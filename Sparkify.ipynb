{
 "cells": [
  {
   "cell_type": "markdown",
   "metadata": {},
   "source": [
    "# Sparkify Project Workspace\n",
    "This workspace contains a tiny subset (128MB) of the full dataset available (12GB). Feel free to use this workspace to build your project, or to explore a smaller subset with Spark before deploying your cluster on the cloud. Instructions for setting up your Spark cluster is included in the last lesson of the Extracurricular Spark Course content.\n",
    "\n",
    "You can follow the steps below to guide your data analysis and model building portion of this project."
   ]
  },
  {
   "cell_type": "markdown",
   "metadata": {},
   "source": [
    "## Background and Methodology\n",
    "\n",
    "Suppose, we are the data team of a popular digital music service similar to Spotify or Pandora. The users stream their favorite songs either using the free tier that place advertisements between songs or use the premium plan for which they pay a monthly fee without any advertisements between songs. Users can upgrade, downgrade or altogether cancel their services. The dataset given to us contains a log of the activities of each user on the service whether they are playing songs, logging out, upgrading their service or cancelling it. All this data contains key insights in keeping the users of the service happy. Our task in this project is to develop a model that predict which users are at risk. If we can identify users that are at risk to churn either by downgrading from premium or by cancelling their service, the business can offer them incentives and discounts potentially saving millions in revenues.\n",
    "\n",
    "To tackle this project, we are given a subset of the dataset that contains a log of events mentioned below. The events include:\n",
    "\n",
    "Cancel\n",
    "Submit Downgrade\n",
    "Thumbs Down\n",
    "Home\n",
    "Downgrade\n",
    "Roll Advert\n",
    "Logout\n",
    "Save Settings\n",
    "Cancellation Conf...\n",
    "About\n",
    "Submit Registration\n",
    "Settings\n",
    "Login\n",
    "Register\n",
    "Add to Playlist\n",
    "Add Friend\n",
    "NextSong\n",
    "Thumbs Up\n",
    "Help\n",
    "Upgrade\n",
    "To solve this problem, first we load the dataset into Apache Spark and delete any rows that have missing userIds or sessionIds. Then we calculate the below mentioned metrics from the given data for each user.\n",
    "\n",
    "Number of Songs\n",
    "Number of sessions\n",
    "Number of artists\n",
    "\n",
    "The label which needs to be predicted is churn which is defined by a user who has performed either a \"Submit Downgrade\" event or \"Cancellation Confirmation\" event.\n",
    "\n",
    "After the above features are calculated, we build the model using the following three algorithms:\n",
    "\n",
    "Logistic Regression\n",
    "Random Forest Classifier\n",
    "SVM Classifier \n",
    "\n",
    "The dataset is split into training and testing sets. A machine learning pipeline is built in which we first convert each row into a single feature vector. Then data in each of the column is normalized and is fed into each of the above classifiers.\n",
    "\n",
    "Metrics\n",
    "The models are evaluated using the F1 score since we have a small number of churned users. F1 score is a better measure to use when there is an uneven class distribution."
   ]
  },
  {
   "cell_type": "code",
   "execution_count": 1,
   "metadata": {},
   "outputs": [],
   "source": [
    "#import packages\n",
    "import pyspark\n",
    "from pyspark import SparkConf, SparkContext\n",
    "from pyspark.sql import SparkSession\n",
    "from pyspark.sql.window import Window\n",
    "from pyspark.sql.functions import udf,max,avg,col,when\n",
    "from pyspark.sql.types import IntegerType\n",
    "\n",
    "import pandas as pd\n",
    "import matplotlib.pyplot as plt\n",
    "import seaborn as sns\n",
    "\n",
    "from pyspark.ml import Pipeline\n",
    "from pyspark.ml.classification import LogisticRegression, RandomForestClassifier, LinearSVC\n",
    "from pyspark.ml.evaluation import MulticlassClassificationEvaluator\n",
    "from pyspark.ml.feature import StandardScaler, StringIndexer, VectorAssembler\n",
    "from pyspark.ml.tuning import CrossValidator, ParamGridBuilder"
   ]
  },
  {
   "cell_type": "code",
   "execution_count": 2,
   "metadata": {},
   "outputs": [
    {
     "data": {
      "text/plain": [
       "[('spark.driver.host', '6bb05fc88dc2'),\n",
       " ('spark.rdd.compress', 'True'),\n",
       " ('spark.serializer.objectStreamReset', '100'),\n",
       " ('config option', 'config value'),\n",
       " ('spark.master', 'local[*]'),\n",
       " ('spark.driver.port', '42469'),\n",
       " ('spark.executor.id', 'driver'),\n",
       " ('spark.submit.deployMode', 'client'),\n",
       " ('spark.app.id', 'local-1575895187364'),\n",
       " ('spark.app.name', 'appname'),\n",
       " ('spark.ui.showConsoleProgress', 'true')]"
      ]
     },
     "execution_count": 2,
     "metadata": {},
     "output_type": "execute_result"
    }
   ],
   "source": [
    "# create a Spark session\n",
    "spark = SparkSession \\\n",
    "    .builder \\\n",
    "    .appName(\"appname\")\\\n",
    "    .config(\"config option\",\"config value\")\\\n",
    "    .getOrCreate()\n",
    "\n",
    "spark.sparkContext.getConf().getAll()"
   ]
  },
  {
   "cell_type": "markdown",
   "metadata": {},
   "source": [
    "# Load and Clean Dataset\n",
    "In this workspace, the mini-dataset file is `mini_sparkify_event_data.json`. Load and clean the dataset, checking for invalid or missing data - for example, records without userids or sessionids. "
   ]
  },
  {
   "cell_type": "code",
   "execution_count": 3,
   "metadata": {},
   "outputs": [
    {
     "data": {
      "text/plain": [
       "<bound method DataFrame.printSchema of DataFrame[artist: string, auth: string, firstName: string, gender: string, itemInSession: bigint, lastName: string, length: double, level: string, location: string, method: string, page: string, registration: bigint, sessionId: bigint, song: string, status: bigint, ts: bigint, userAgent: string, userId: string]>"
      ]
     },
     "execution_count": 3,
     "metadata": {},
     "output_type": "execute_result"
    }
   ],
   "source": [
    "#load dataset\n",
    "path = \"mini_sparkify_event_data.json\"\n",
    "spd = spark.read.json(path)\n",
    "spd.printSchema"
   ]
  },
  {
   "cell_type": "code",
   "execution_count": 4,
   "metadata": {
    "scrolled": true
   },
   "outputs": [
    {
     "data": {
      "text/html": [
       "<div>\n",
       "<style scoped>\n",
       "    .dataframe tbody tr th:only-of-type {\n",
       "        vertical-align: middle;\n",
       "    }\n",
       "\n",
       "    .dataframe tbody tr th {\n",
       "        vertical-align: top;\n",
       "    }\n",
       "\n",
       "    .dataframe thead th {\n",
       "        text-align: right;\n",
       "    }\n",
       "</style>\n",
       "<table border=\"1\" class=\"dataframe\">\n",
       "  <thead>\n",
       "    <tr style=\"text-align: right;\">\n",
       "      <th></th>\n",
       "      <th>artist</th>\n",
       "      <th>auth</th>\n",
       "      <th>firstName</th>\n",
       "      <th>gender</th>\n",
       "      <th>itemInSession</th>\n",
       "      <th>lastName</th>\n",
       "      <th>length</th>\n",
       "      <th>level</th>\n",
       "      <th>location</th>\n",
       "      <th>method</th>\n",
       "      <th>page</th>\n",
       "      <th>registration</th>\n",
       "      <th>sessionId</th>\n",
       "      <th>song</th>\n",
       "      <th>status</th>\n",
       "      <th>ts</th>\n",
       "      <th>userAgent</th>\n",
       "      <th>userId</th>\n",
       "    </tr>\n",
       "  </thead>\n",
       "  <tbody>\n",
       "    <tr>\n",
       "      <th>0</th>\n",
       "      <td>Martha Tilston</td>\n",
       "      <td>Logged In</td>\n",
       "      <td>Colin</td>\n",
       "      <td>M</td>\n",
       "      <td>50</td>\n",
       "      <td>Freeman</td>\n",
       "      <td>277.89016</td>\n",
       "      <td>paid</td>\n",
       "      <td>Bakersfield, CA</td>\n",
       "      <td>PUT</td>\n",
       "      <td>NextSong</td>\n",
       "      <td>1.538173e+12</td>\n",
       "      <td>29</td>\n",
       "      <td>Rockpools</td>\n",
       "      <td>200</td>\n",
       "      <td>1538352117000</td>\n",
       "      <td>Mozilla/5.0 (Windows NT 6.1; WOW64; rv:31.0) G...</td>\n",
       "      <td>30</td>\n",
       "    </tr>\n",
       "    <tr>\n",
       "      <th>1</th>\n",
       "      <td>Five Iron Frenzy</td>\n",
       "      <td>Logged In</td>\n",
       "      <td>Micah</td>\n",
       "      <td>M</td>\n",
       "      <td>79</td>\n",
       "      <td>Long</td>\n",
       "      <td>236.09424</td>\n",
       "      <td>free</td>\n",
       "      <td>Boston-Cambridge-Newton, MA-NH</td>\n",
       "      <td>PUT</td>\n",
       "      <td>NextSong</td>\n",
       "      <td>1.538332e+12</td>\n",
       "      <td>8</td>\n",
       "      <td>Canada</td>\n",
       "      <td>200</td>\n",
       "      <td>1538352180000</td>\n",
       "      <td>\"Mozilla/5.0 (Windows NT 6.1; WOW64) AppleWebK...</td>\n",
       "      <td>9</td>\n",
       "    </tr>\n",
       "    <tr>\n",
       "      <th>2</th>\n",
       "      <td>Adam Lambert</td>\n",
       "      <td>Logged In</td>\n",
       "      <td>Colin</td>\n",
       "      <td>M</td>\n",
       "      <td>51</td>\n",
       "      <td>Freeman</td>\n",
       "      <td>282.82730</td>\n",
       "      <td>paid</td>\n",
       "      <td>Bakersfield, CA</td>\n",
       "      <td>PUT</td>\n",
       "      <td>NextSong</td>\n",
       "      <td>1.538173e+12</td>\n",
       "      <td>29</td>\n",
       "      <td>Time For Miracles</td>\n",
       "      <td>200</td>\n",
       "      <td>1538352394000</td>\n",
       "      <td>Mozilla/5.0 (Windows NT 6.1; WOW64; rv:31.0) G...</td>\n",
       "      <td>30</td>\n",
       "    </tr>\n",
       "    <tr>\n",
       "      <th>3</th>\n",
       "      <td>Enigma</td>\n",
       "      <td>Logged In</td>\n",
       "      <td>Micah</td>\n",
       "      <td>M</td>\n",
       "      <td>80</td>\n",
       "      <td>Long</td>\n",
       "      <td>262.71302</td>\n",
       "      <td>free</td>\n",
       "      <td>Boston-Cambridge-Newton, MA-NH</td>\n",
       "      <td>PUT</td>\n",
       "      <td>NextSong</td>\n",
       "      <td>1.538332e+12</td>\n",
       "      <td>8</td>\n",
       "      <td>Knocking On Forbidden Doors</td>\n",
       "      <td>200</td>\n",
       "      <td>1538352416000</td>\n",
       "      <td>\"Mozilla/5.0 (Windows NT 6.1; WOW64) AppleWebK...</td>\n",
       "      <td>9</td>\n",
       "    </tr>\n",
       "    <tr>\n",
       "      <th>4</th>\n",
       "      <td>Daft Punk</td>\n",
       "      <td>Logged In</td>\n",
       "      <td>Colin</td>\n",
       "      <td>M</td>\n",
       "      <td>52</td>\n",
       "      <td>Freeman</td>\n",
       "      <td>223.60771</td>\n",
       "      <td>paid</td>\n",
       "      <td>Bakersfield, CA</td>\n",
       "      <td>PUT</td>\n",
       "      <td>NextSong</td>\n",
       "      <td>1.538173e+12</td>\n",
       "      <td>29</td>\n",
       "      <td>Harder Better Faster Stronger</td>\n",
       "      <td>200</td>\n",
       "      <td>1538352676000</td>\n",
       "      <td>Mozilla/5.0 (Windows NT 6.1; WOW64; rv:31.0) G...</td>\n",
       "      <td>30</td>\n",
       "    </tr>\n",
       "  </tbody>\n",
       "</table>\n",
       "</div>"
      ],
      "text/plain": [
       "             artist       auth firstName gender  itemInSession lastName  \\\n",
       "0    Martha Tilston  Logged In     Colin      M             50  Freeman   \n",
       "1  Five Iron Frenzy  Logged In     Micah      M             79     Long   \n",
       "2      Adam Lambert  Logged In     Colin      M             51  Freeman   \n",
       "3            Enigma  Logged In     Micah      M             80     Long   \n",
       "4         Daft Punk  Logged In     Colin      M             52  Freeman   \n",
       "\n",
       "      length level                        location method      page  \\\n",
       "0  277.89016  paid                 Bakersfield, CA    PUT  NextSong   \n",
       "1  236.09424  free  Boston-Cambridge-Newton, MA-NH    PUT  NextSong   \n",
       "2  282.82730  paid                 Bakersfield, CA    PUT  NextSong   \n",
       "3  262.71302  free  Boston-Cambridge-Newton, MA-NH    PUT  NextSong   \n",
       "4  223.60771  paid                 Bakersfield, CA    PUT  NextSong   \n",
       "\n",
       "   registration  sessionId                           song  status  \\\n",
       "0  1.538173e+12         29                      Rockpools     200   \n",
       "1  1.538332e+12          8                         Canada     200   \n",
       "2  1.538173e+12         29              Time For Miracles     200   \n",
       "3  1.538332e+12          8    Knocking On Forbidden Doors     200   \n",
       "4  1.538173e+12         29  Harder Better Faster Stronger     200   \n",
       "\n",
       "              ts                                          userAgent userId  \n",
       "0  1538352117000  Mozilla/5.0 (Windows NT 6.1; WOW64; rv:31.0) G...     30  \n",
       "1  1538352180000  \"Mozilla/5.0 (Windows NT 6.1; WOW64) AppleWebK...      9  \n",
       "2  1538352394000  Mozilla/5.0 (Windows NT 6.1; WOW64; rv:31.0) G...     30  \n",
       "3  1538352416000  \"Mozilla/5.0 (Windows NT 6.1; WOW64) AppleWebK...      9  \n",
       "4  1538352676000  Mozilla/5.0 (Windows NT 6.1; WOW64; rv:31.0) G...     30  "
      ]
     },
     "execution_count": 4,
     "metadata": {},
     "output_type": "execute_result"
    }
   ],
   "source": [
    "# convert to a dataframe\n",
    "df = spd.toPandas()\n",
    "df.head()"
   ]
  },
  {
   "cell_type": "code",
   "execution_count": 5,
   "metadata": {},
   "outputs": [
    {
     "data": {
      "text/plain": [
       "artist           58392\n",
       "auth                 0\n",
       "firstName         8346\n",
       "gender            8346\n",
       "itemInSession        0\n",
       "lastName          8346\n",
       "length           58392\n",
       "level                0\n",
       "location          8346\n",
       "method               0\n",
       "page                 0\n",
       "registration      8346\n",
       "sessionId            0\n",
       "song             58392\n",
       "status               0\n",
       "ts                   0\n",
       "userAgent         8346\n",
       "userId               0\n",
       "dtype: int64"
      ]
     },
     "execution_count": 5,
     "metadata": {},
     "output_type": "execute_result"
    }
   ],
   "source": [
    "#check for Nulls\n",
    "df.isnull().sum()"
   ]
  },
  {
   "cell_type": "code",
   "execution_count": 6,
   "metadata": {},
   "outputs": [],
   "source": [
    "#drop NA's\n",
    "df_valid = df.dropna(how = 'any', subset = ['userId', 'sessionId'])"
   ]
  },
  {
   "cell_type": "code",
   "execution_count": 7,
   "metadata": {},
   "outputs": [],
   "source": [
    "df_valid.drop_duplicates()\n",
    "# drop empty strings\n",
    "df_valid = df_valid.filter(df_valid[\"userId\"] != \"\")"
   ]
  },
  {
   "cell_type": "markdown",
   "metadata": {},
   "source": [
    "# Exploratory Data Analysis\n",
    "When you're working with the full dataset, perform EDA by loading a small subset of the data and doing basic manipulations within Spark. In this workspace, you are already provided a small subset of data you can explore.\n",
    "\n",
    "### Define Churn\n",
    "\n",
    "Once you've done some preliminary analysis, create a column `Churn` to use as the label for your model. I suggest using the `Cancellation Confirmation` events to define your churn, which happen for both paid and free users. As a bonus task, you can also look into the `Downgrade` events.\n",
    "\n",
    "### Explore Data\n",
    "Once you've defined churn, perform some exploratory data analysis to observe the behavior for users who stayed vs users who churned. You can start by exploring aggregates on these two groups of users, observing how much of a specific action they experienced per a certain time unit or number of songs played."
   ]
  },
  {
   "cell_type": "code",
   "execution_count": 8,
   "metadata": {},
   "outputs": [],
   "source": [
    "#Churn is defined as the users who got to 'Cancellation Confirmation'. Also 'Downgrade' event is being tracked. \n",
    "churn_flag = udf(lambda x:1 if x==\"Cancellation Confirmation\" else 0, IntegerType())\n",
    "spd = spd.withColumn(\"churn_flag\",churn_flag(\"page\"))\n",
    "\n",
    "\n",
    "# label Churned users (if Churned once)\n",
    "windowval = Window.partitionBy('userId')\n",
    "spd = spd.withColumn('churn', max('churn_flag').over(windowval))\n",
    "\n",
    "\n",
    "#Downgrade Event\n",
    "down_flag = udf(lambda x:1 if x==\"Submit Downgrade\" else 0, IntegerType())\n",
    "spd = spd.withColumn(\"Downgrade_flag\", down_flag(\"page\"))\n",
    "\n",
    "\n",
    "# label Downgraded users (if Downgraded  once)\n",
    "windowval = Window.partitionBy('userId')\n",
    "spd = spd.withColumn('Downgraded', max('Downgrade_flag').over(windowval))\n",
    "\n",
    "#Drop the flag columns (no longer needed)\n",
    "columns_to_drop = ['churn_flag', 'Downgrade_flag']\n",
    "spd = spd.drop(*columns_to_drop)"
   ]
  },
  {
   "cell_type": "code",
   "execution_count": 9,
   "metadata": {
    "scrolled": true
   },
   "outputs": [
    {
     "data": {
      "image/png": "[encoded data removed]",
      "text/plain": [
       "<matplotlib.figure.Figure at 0x7f0ce7af9518>"
      ]
     },
     "metadata": {
      "needs_background": "light"
     },
     "output_type": "display_data"
    }
   ],
   "source": [
    "churn_count = spd.select(['churn']).toPandas()\n",
    "sns.countplot(churn_count['churn']);"
   ]
  },
  {
   "cell_type": "code",
   "execution_count": 10,
   "metadata": {
    "scrolled": true
   },
   "outputs": [
    {
     "data": {
      "image/png": "[encoded data removed]",
      "text/plain": [
       "<matplotlib.figure.Figure at 0x7f0cf67f3c88>"
      ]
     },
     "metadata": {
      "needs_background": "light"
     },
     "output_type": "display_data"
    }
   ],
   "source": [
    "def plot_df_churns(groupField):\n",
    "    plot_df = spd.groupby(groupField).agg({'churn':'sum'}).toPandas()\n",
    "    \n",
    "    #plotting\n",
    "    plt.bar(x=plot_df[groupField],height=plot_df['sum(churn)'],color=['blue','orange'])\n",
    "    plt.xlabel(groupField)\n",
    "    plt.ylabel(\"Churn Count\")\n",
    "    plt.show()\n",
    "    \n",
    "#Users Churn by Gender\n",
    "plot_df_churns('gender')"
   ]
  },
  {
   "cell_type": "code",
   "execution_count": 11,
   "metadata": {
    "scrolled": true
   },
   "outputs": [
    {
     "data": {
      "image/png": "[encoded data removed]",
      "text/plain": [
       "<matplotlib.figure.Figure at 0x7f0cf67f3908>"
      ]
     },
     "metadata": {
      "needs_background": "light"
     },
     "output_type": "display_data"
    }
   ],
   "source": [
    "#Users churn by Level\n",
    "plot_df_churns('level')"
   ]
  },
  {
   "cell_type": "code",
   "execution_count": 12,
   "metadata": {},
   "outputs": [
    {
     "data": {
      "image/png": "[encoded data removed]",
      "text/plain": [
       "<matplotlib.figure.Figure at 0x7f0ce280bb00>"
      ]
     },
     "metadata": {
      "needs_background": "light"
     },
     "output_type": "display_data"
    }
   ],
   "source": [
    "songs_pd = spd.where('page == \"NextSong\"').groupby(['churn', 'userId', 'sessionId','gender']).count()\\\n",
    "    .groupby(['churn', 'userId', 'gender']).agg({'count':'avg'})\\\n",
    "    .withColumnRenamed('avg(count)', 'avg_songs_played')\\\n",
    "    .toPandas()\n",
    "\n",
    "Value_map = {1:'yes', 0:'no'}\n",
    "songs_pd['churn'] = songs_pd['churn'].map(Value_map)\n",
    "\n",
    "ax = sns.violinplot('churn', y='avg_songs_played', hue='gender', data=songs_pd)\n",
    "plt.xlabel('Has customer churned?')\n",
    "plt.ylabel('Average songs played per session')\n",
    "plt.legend(title='Gender', loc='best', ncol=2)\n",
    "sns.despine(ax=ax);"
   ]
  },
  {
   "cell_type": "markdown",
   "metadata": {},
   "source": [
    "# Feature Engineering\n",
    "Once you've familiarized yourself with the data, build out the features you find promising to train your model on. To work with the full dataset, you can follow the following steps.\n",
    "- Write a script to extract the necessary features from the smaller subset of data\n",
    "- Ensure that your script is scalable, using the best practices discussed in Lesson 3\n",
    "- Try your script on the full data set, debugging your script if necessary\n",
    "\n",
    "If you are working in the classroom workspace, you can just extract features based on the small subset of data contained here. Be sure to transfer over this work to the larger dataset when you work on your Spark cluster."
   ]
  },
  {
   "cell_type": "code",
   "execution_count": 13,
   "metadata": {
    "scrolled": true
   },
   "outputs": [
    {
     "name": "stdout",
     "output_type": "stream",
     "text": [
      "+------+------+\n",
      "|userId|gender|\n",
      "+------+------+\n",
      "|    44|     1|\n",
      "|    46|     1|\n",
      "|    41|     1|\n",
      "|    72|     1|\n",
      "|300023|     1|\n",
      "+------+------+\n",
      "only showing top 5 rows\n",
      "\n",
      "+------+-----+\n",
      "|userId|level|\n",
      "+------+-----+\n",
      "|100021|    0|\n",
      "|200021|    0|\n",
      "|200001|    0|\n",
      "|     6|    0|\n",
      "|300022|    1|\n",
      "+------+-----+\n",
      "only showing top 5 rows\n",
      "\n",
      "+------+----------+\n",
      "|userId|Downgraded|\n",
      "+------+----------+\n",
      "|100010|         0|\n",
      "|200002|         0|\n",
      "|   125|         0|\n",
      "|   124|         0|\n",
      "|    51|         0|\n",
      "+------+----------+\n",
      "only showing top 5 rows\n",
      "\n"
     ]
    }
   ],
   "source": [
    "#First obvious features would be Gender and Level, apart from downgrade event\n",
    "\n",
    "#gender\n",
    "gender = spd.select(\"userId\", \"gender\").dropDuplicates()\n",
    "gender = gender.replace([\"M\", \"F\"], [\"0\", \"1\"], \"gender\")\n",
    "gender = gender.select(\"userId\", gender.gender.cast(\"int\"))\n",
    "\n",
    "gender.show(5)\n",
    "\n",
    "#level\n",
    "level = spd.select(\"userId\", \"level\").dropDuplicates()\n",
    "level = level.replace([\"free\", \"paid\"], [\"0\", \"1\"], \"level\")\n",
    "level = level.select(\"userId\", level.level.cast(\"int\"))\n",
    "\n",
    "level.show(5)\n",
    "\n",
    "#users downgrade\n",
    "downgrade = spd.select(\"userId\", \"Downgraded\").dropDuplicates()\n",
    "downgrade = downgrade.select(\"userId\", downgrade.Downgraded.cast(\"int\"))\n",
    "\n",
    "downgrade.show(5)"
   ]
  },
  {
   "cell_type": "code",
   "execution_count": 14,
   "metadata": {},
   "outputs": [
    {
     "name": "stdout",
     "output_type": "stream",
     "text": [
      "+------+-----------+\n",
      "|userId|count(song)|\n",
      "+------+-----------+\n",
      "|    10|        673|\n",
      "|   100|       2682|\n",
      "|100001|        133|\n",
      "|100002|        195|\n",
      "|100003|         51|\n",
      "|100004|        942|\n",
      "|100005|        154|\n",
      "|100006|         26|\n",
      "|100007|        423|\n",
      "|100008|        772|\n",
      "|100009|        518|\n",
      "|100010|        275|\n",
      "|100011|         11|\n",
      "|100012|        476|\n",
      "|100013|       1131|\n",
      "|100014|        257|\n",
      "|100015|        800|\n",
      "|100016|        530|\n",
      "|100017|         52|\n",
      "|100018|       1002|\n",
      "+------+-----------+\n",
      "only showing top 20 rows\n",
      "\n"
     ]
    }
   ],
   "source": [
    "#Number of Song Played as a feature \n",
    "song_played = spd.where(spd.song!='null').groupby('userId') \\\n",
    "    .agg({'song':'count'}).orderBy('userId') \\\n",
    "    .select(['userId','count(song)'])\n",
    "song_played.withColumnRenamed(\"count(song)\", \"songCount\")\n",
    "song_played.show()"
   ]
  },
  {
   "cell_type": "code",
   "execution_count": 15,
   "metadata": {
    "scrolled": true
   },
   "outputs": [
    {
     "name": "stdout",
     "output_type": "stream",
     "text": [
      "+------+-------------+\n",
      "|userId|count(artist)|\n",
      "+------+-------------+\n",
      "|      |            0|\n",
      "|    10|          565|\n",
      "|   100|         1705|\n",
      "|100001|          125|\n",
      "|100002|          184|\n",
      "|100003|           50|\n",
      "|100004|          733|\n",
      "|100005|          149|\n",
      "|100006|           26|\n",
      "|100007|          357|\n",
      "|100008|          623|\n",
      "|100009|          442|\n",
      "|100010|          252|\n",
      "|100011|           11|\n",
      "|100012|          397|\n",
      "|100013|          826|\n",
      "|100014|          233|\n",
      "|100015|          627|\n",
      "|100016|          431|\n",
      "|100017|           51|\n",
      "+------+-------------+\n",
      "only showing top 20 rows\n",
      "\n"
     ]
    }
   ],
   "source": [
    "#Number of Singers user has listened to \n",
    "singers_count = spd.dropDuplicates(['userId','artist']).groupby('userId') \\\n",
    "    .agg({'artist':'count'}).orderBy('userId') \\\n",
    "    .select(['userId','count(artist)'])\n",
    "singers_count.withColumnRenamed(\"count(artist)\", \"artistCount\")\n",
    "singers_count.show()"
   ]
  },
  {
   "cell_type": "code",
   "execution_count": 16,
   "metadata": {
    "scrolled": true
   },
   "outputs": [
    {
     "name": "stdout",
     "output_type": "stream",
     "text": [
      "+------+------------+\n",
      "|userId|sessionCount|\n",
      "+------+------------+\n",
      "|100010|           7|\n",
      "|200002|           6|\n",
      "|   125|           1|\n",
      "|    51|          10|\n",
      "|   124|          29|\n",
      "+------+------------+\n",
      "only showing top 5 rows\n",
      "\n"
     ]
    }
   ],
   "source": [
    "#number of sessions \n",
    "session_count = spd.select(\"userId\", \"sessionId\").dropDuplicates().groupby(\"userId\").count()\n",
    "session_count = session_count.withColumnRenamed(\"count\", \"sessionCount\")\n",
    "\n",
    "session_count.show(5)"
   ]
  },
  {
   "cell_type": "code",
   "execution_count": 17,
   "metadata": {},
   "outputs": [
    {
     "name": "stdout",
     "output_type": "stream",
     "text": [
      "+------+-----+------+-----+----------+-----------+------------+---------+\n",
      "|userId|churn|gender|level|Downgraded|artistCount|sessionCount|songCount|\n",
      "+------+-----+------+-----+----------+-----------+------------+---------+\n",
      "|100010|    0|     1|    0|         0|        252|           7|      275|\n",
      "|200002|    0|     0|    0|         0|        339|           6|      387|\n",
      "|200002|    0|     0|    1|         0|        339|           6|      387|\n",
      "|   125|    1|     0|    0|         0|          8|           1|        8|\n",
      "|   124|    0|     1|    1|         0|       2232|          29|     4079|\n",
      "+------+-----+------+-----+----------+-----------+------------+---------+\n",
      "only showing top 5 rows\n",
      "\n"
     ]
    }
   ],
   "source": [
    "#combine features & label\n",
    "spd_modelFeatures = spd.dropDuplicates(['userId']).sort('userId').select(['userId','churn'])\n",
    "for feature in [gender, level, downgrade, singers_count, session_count, song_played]:\n",
    "    spd_modelFeatures = spd_modelFeatures.join(feature,'userId')\n",
    "\n",
    "spd_modelFeatures = spd_modelFeatures.withColumnRenamed(\"count(song)\", \"songCount\").withColumnRenamed(\\\n",
    "                                                        \"count(artist)\", \"artistCount\")\n",
    "\n",
    "spd_modelFeatures.show(5)"
   ]
  },
  {
   "cell_type": "markdown",
   "metadata": {},
   "source": [
    "# Modeling\n",
    "Split the full dataset into train, test, and validation sets. Test out several of the machine learning methods you learned. Evaluate the accuracy of the various models, tuning parameters as necessary. Determine your winning model based on test accuracy and report results on the validation set. Since the churned users are a fairly small subset, I suggest using F1 score as the metric to optimize."
   ]
  },
  {
   "cell_type": "code",
   "execution_count": 18,
   "metadata": {},
   "outputs": [],
   "source": [
    "assembler = VectorAssembler(inputCols=spd_modelFeatures.columns[2:],outputCol='featureVector')\n",
    "scaler = StandardScaler(inputCol=\"featureVector\", outputCol=\"features\", withStd=True)\n",
    "indexer = StringIndexer(inputCol=\"churn\", outputCol=\"label\")"
   ]
  },
  {
   "cell_type": "code",
   "execution_count": 19,
   "metadata": {},
   "outputs": [],
   "source": [
    "lr =  LogisticRegression(labelCol=\"label\", featuresCol=\"features\", maxIter=10, regParam=0.0, elasticNetParam=0)\n",
    "\n",
    "#defining Pipeline\n",
    "pipeline = Pipeline(stages=[assembler, scaler, indexer, lr])\n",
    "\n",
    "#Parameter grid\n",
    "param = ParamGridBuilder() \\\n",
    "    .addGrid(lr.regParam,[0.0, 0.001, 0.01, 0.1]) \\\n",
    "    .build()\n",
    "\n",
    "#set evaluator -'one time needed'\n",
    "evaluator = MulticlassClassificationEvaluator(metricName='f1')\n",
    "\n",
    "#cross-validation\n",
    "lr_crossval = CrossValidator(estimator=pipeline, estimatorParamMaps=param, \n",
    "                             evaluator=evaluator, numFolds=3)"
   ]
  },
  {
   "cell_type": "code",
   "execution_count": 20,
   "metadata": {},
   "outputs": [],
   "source": [
    "#Random forest\n",
    "rf = RandomForestClassifier(numTrees=20, maxDepth=2, labelCol=\"label\", seed=42)\n",
    "\n",
    "#defining Pipeline\n",
    "pipeline = Pipeline(stages=[assembler, scaler, indexer, rf])\n",
    "\n",
    "#Parameter grid\n",
    "param = ParamGridBuilder() \\\n",
    "    .addGrid(rf.numTrees,[20, 50]).addGrid(rf.maxDepth,[2,3, 5]) \\\n",
    "    .build()\n",
    "\n",
    "\n",
    "#cross-validation\n",
    "rf_crossval = CrossValidator(estimator=pipeline, estimatorParamMaps=param, \n",
    "                             evaluator=evaluator, numFolds=3)"
   ]
  },
  {
   "cell_type": "code",
   "execution_count": 21,
   "metadata": {},
   "outputs": [],
   "source": [
    "# SVM\n",
    "svm = LinearSVC(labelCol=\"label\", featuresCol=\"features\",maxIter=10)\n",
    "\n",
    "#defining Pipeline\n",
    "pipeline = Pipeline(stages=[assembler, scaler, indexer, svm])\n",
    "\n",
    "#Parameter grid\n",
    "param = ParamGridBuilder() \\\n",
    "    .build()\n",
    "\n",
    "\n",
    "#cross-validation\n",
    "svm_crossval = CrossValidator(estimator=pipeline, estimatorParamMaps=param, \n",
    "                              evaluator=evaluator, numFolds=3)"
   ]
  },
  {
   "cell_type": "code",
   "execution_count": 22,
   "metadata": {},
   "outputs": [],
   "source": [
    "#Split the data into train and test subsets\n",
    "train, test = spd_modelFeatures.randomSplit([0.7, 0.3], seed=42)"
   ]
  },
  {
   "cell_type": "code",
   "execution_count": 23,
   "metadata": {},
   "outputs": [],
   "source": [
    "# Function for evaluation of each model\n",
    "def evaluation(model,modelname):\n",
    "    \"\"\"\n",
    "    Input:\n",
    "      model- model for evaluation \n",
    "      modelname - string representing the name of the model used\n",
    "    Return:\n",
    "      None\n",
    "    \"\"\"\n",
    "    #training\n",
    "    cv = model.fit(train)\n",
    "    #evaluation\n",
    "    print(modelname)\n",
    "    print(\"\\nTraining Metrics: \",cv.avgMetrics)\n",
    "    # test performance\n",
    "    predictions = cv.transform(test)\n",
    "    print(\"\\nTest Metric 'F1-Score': \",MulticlassClassificationEvaluator().setMetricName(\"f1\").evaluate(predictions))\n",
    "    return cv"
   ]
  },
  {
   "cell_type": "code",
   "execution_count": 42,
   "metadata": {},
   "outputs": [
    {
     "name": "stdout",
     "output_type": "stream",
     "text": [
      "Logistic Regression\n",
      "\n",
      "Training Metrics:  [0.6799295545398909, 0.6799295545398909, 0.6799295545398909, 0.6799295545398909]\n",
      "\n",
      "Test Metric 'F1-Score':  0.6670274170274171\n"
     ]
    }
   ],
   "source": [
    "#Evaluation for Logistic Regression\n",
    "cv_lr = evaluation(lr_crossval, \"Logistic Regression\")"
   ]
  },
  {
   "cell_type": "code",
   "execution_count": 24,
   "metadata": {},
   "outputs": [
    {
     "name": "stdout",
     "output_type": "stream",
     "text": [
      "Random Forest Classifier\n",
      "\n",
      "Training Metrics:  [0.6741924063429355, 0.6741924063429355, 0.7052444589743515, 0.6804760155335214, 0.6804760155335214, 0.7104974319223429]\n",
      "\n",
      "Test Metric 'F1-Score':  0.7069970845481051\n"
     ]
    }
   ],
   "source": [
    "#Evaluation for Random Forest Classifier\n",
    "cv_rf = evaluation(rf_crossval, \"Random Forest Classifier\")"
   ]
  },
  {
   "cell_type": "code",
   "execution_count": 26,
   "metadata": {},
   "outputs": [
    {
     "name": "stdout",
     "output_type": "stream",
     "text": [
      "SVM Classifier\n",
      "\n",
      "Training Metrics:  [0.6761055777925308]\n",
      "\n",
      "Test Metric 'F1-Score':  0.6670274170274171\n"
     ]
    }
   ],
   "source": [
    "#Evaluation of SVM classifier\n",
    "cv_svm = evaluation(svm_crossval, \"SVM Classifier\")"
   ]
  },
  {
   "cell_type": "markdown",
   "metadata": {},
   "source": [
    "# Final Steps\n",
    "Clean up your code, adding comments and renaming variables to make the code easier to read and maintain. Refer to the Spark Project Overview page and Data Scientist Capstone Project Rubric to make sure you are including all components of the capstone project and meet all expectations. Remember, this includes thorough documentation in a README file in a Github repository, as well as a web app or blog post."
   ]
  },
  {
   "cell_type": "markdown",
   "metadata": {},
   "source": [
    "## Summary\n",
    "\n",
    "Random Forest Classifier gives us the best F1 scores among the methods under consideration"
   ]
  },
  {
   "cell_type": "code",
   "execution_count": null,
   "metadata": {},
   "outputs": [],
   "source": []
  }
 ],
 "metadata": {
  "kernelspec": {
   "display_name": "Python 3",
   "language": "python",
   "name": "python3"
  },
  "language_info": {
   "codemirror_mode": {
    "name": "ipython",
    "version": 3
   },
   "file_extension": ".py",
   "mimetype": "text/x-python",
   "name": "python",
   "nbconvert_exporter": "python",
   "pygments_lexer": "ipython3",
   "version": "3.6.5"
  }
 },
 "nbformat": 4,
 "nbformat_minor": 2
}
